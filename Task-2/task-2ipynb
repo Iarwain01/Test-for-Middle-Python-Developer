{
  "nbformat": 4,
  "nbformat_minor": 0,
  "metadata": {
    "colab": {
      "provenance": []
    },
    "kernelspec": {
      "name": "python3",
      "display_name": "Python 3"
    },
    "language_info": {
      "name": "python"
    }
  },
  "cells": [
    {
      "cell_type": "markdown",
      "source": [
        "### Creating a Demo Database"
      ],
      "metadata": {
        "id": "m0tWbavi6hl3"
      }
    },
    {
      "cell_type": "code",
      "execution_count": 1,
      "metadata": {
        "id": "24bVQrXmgc48"
      },
      "outputs": [],
      "source": [
        "import sqlite3\n",
        "\n",
        "# Connect to the database (this will create it if it doesn't exist)\n",
        "connect = sqlite3.connect('Database.db')\n",
        "c = connect.cursor()\n",
        "\n",
        "# Create a table\n",
        "c.execute('''CREATE TABLE IF NOT EXISTS users\n",
        "             (id INTEGER PRIMARY KEY, name TEXT, email TEXT)''')\n",
        "\n",
        "# Commit changes and close connection\n",
        "connect.commit()\n",
        "connect.close()\n"
      ]
    },
    {
      "cell_type": "markdown",
      "source": [
        "### Adding Data to the following Database"
      ],
      "metadata": {
        "id": "m2eoUH5p6qBk"
      }
    },
    {
      "cell_type": "code",
      "source": [
        "def add_user(name, email):\n",
        "    connect = sqlite3.connect('Database.db')\n",
        "    c = connect.cursor()\n",
        "\n",
        "    c.execute(\"INSERT INTO users (name, email) VALUES (?, ?)\", (name, email))\n",
        "\n",
        "    connect.commit()\n",
        "    connect.close()\n",
        "\n",
        "# Example usage\n",
        "add_user(\"Md Al-Mamun\", \"md.4lmamun101@gmail.com\")\n",
        "add_user(\"Md Maruf\", \"md.m4ruf@gmail.com\")\n"
      ],
      "metadata": {
        "id": "qfmDGvBggxIx"
      },
      "execution_count": 2,
      "outputs": []
    },
    {
      "cell_type": "markdown",
      "source": [
        "### Retrive the DATA"
      ],
      "metadata": {
        "id": "YtZWzYbW60sc"
      }
    },
    {
      "cell_type": "code",
      "source": [
        "def get_users():\n",
        "    connect = sqlite3.connect('Database.db')\n",
        "    c = connect.cursor()\n",
        "\n",
        "    c.execute(\"SELECT * FROM users\")\n",
        "    users = c.fetchall()\n",
        "\n",
        "    connect.close()\n",
        "    return users\n",
        "\n",
        "# Example usage\n",
        "users = get_users()\n",
        "for user in users:\n",
        "    print(user)\n"
      ],
      "metadata": {
        "colab": {
          "base_uri": "https://localhost:8080/"
        },
        "id": "PzakyqEhg4Hn",
        "outputId": "d8cb639f-56c0-4cac-b2df-2b091a03ba6f"
      },
      "execution_count": 3,
      "outputs": [
        {
          "output_type": "stream",
          "name": "stdout",
          "text": [
            "(1, 'Md Al-Mamun', 'md.4lmamun101@gmail.com')\n",
            "(2, 'Md Maruf', 'md.m4ruf@gmail.com')\n"
          ]
        }
      ]
    },
    {
      "cell_type": "markdown",
      "source": [
        "### Updating Data into the Database"
      ],
      "metadata": {
        "id": "aiAoTZbU7AR8"
      }
    },
    {
      "cell_type": "code",
      "source": [
        "def update_email(user_id, new_email):\n",
        "    connect = sqlite3.connect('Database.db')\n",
        "    c = connect.cursor()\n",
        "\n",
        "    c.execute(\"UPDATE users SET email=? WHERE id=?\", (new_email, user_id))\n",
        "\n",
        "    connect.commit()\n",
        "    connect.close()\n",
        "\n",
        "# Example usage\n",
        "update_email(1, \"al4min.sh4kib@gmail.com\")\n",
        "\n",
        "users = get_users()\n",
        "for user in users:\n",
        "    print(user)\n"
      ],
      "metadata": {
        "id": "AVNAa6ugg-Sv",
        "colab": {
          "base_uri": "https://localhost:8080/"
        },
        "outputId": "7f921913-4dd3-499f-a7f7-e569870ba052"
      },
      "execution_count": 5,
      "outputs": [
        {
          "output_type": "stream",
          "name": "stdout",
          "text": [
            "(1, 'Md Al-Mamun', 'al4min.sh4kib@gmail.com')\n",
            "(2, 'Md Maruf', 'md.m4ruf@gmail.com')\n"
          ]
        }
      ]
    },
    {
      "cell_type": "markdown",
      "source": [
        "### Deleting Data from the Database"
      ],
      "metadata": {
        "id": "GAJg32BF7IE8"
      }
    },
    {
      "cell_type": "code",
      "source": [
        "def delete_user(user_id):\n",
        "    connect = sqlite3.connect('Database.db')\n",
        "    c = connect.cursor()\n",
        "\n",
        "    c.execute(\"DELETE FROM users WHERE id=?\", (user_id,))\n",
        "\n",
        "    connect.commit()\n",
        "    connect.close()\n",
        "\n",
        "# Example usage\n",
        "delete_user(1)\n",
        "\n",
        "users = get_users()\n",
        "for user in users:\n",
        "    print(user)\n"
      ],
      "metadata": {
        "id": "JiPOqgBjhAg6",
        "colab": {
          "base_uri": "https://localhost:8080/"
        },
        "outputId": "75a26cc1-9a0c-4070-d36e-49aaf9053017"
      },
      "execution_count": 16,
      "outputs": [
        {
          "output_type": "stream",
          "name": "stdout",
          "text": [
            "(2, 'Md Maruf', 'md.m4ruf@gmail.com')\n"
          ]
        }
      ]
    }
  ]
}
